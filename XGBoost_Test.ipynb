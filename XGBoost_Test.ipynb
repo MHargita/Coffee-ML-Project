{
 "cells": [
  {
   "cell_type": "code",
   "execution_count": 4,
   "id": "major-hardwood",
   "metadata": {},
   "outputs": [
    {
     "name": "stdout",
     "output_type": "stream",
     "text": [
      "Collecting xgboost\n",
      "  Downloading xgboost-1.3.3-py3-none-macosx_10_14_x86_64.macosx_10_15_x86_64.macosx_11_0_x86_64.whl (1.2 MB)\n",
      "\u001b[K     |████████████████████████████████| 1.2 MB 7.5 MB/s eta 0:00:01\n",
      "\u001b[?25hRequirement already satisfied: numpy in /Users/michelledavis/opt/anaconda3/envs/PythonAdv/lib/python3.6/site-packages (from xgboost) (1.19.2)\n",
      "Requirement already satisfied: scipy in /Users/michelledavis/opt/anaconda3/envs/PythonAdv/lib/python3.6/site-packages (from xgboost) (1.5.2)\n",
      "Installing collected packages: xgboost\n",
      "Successfully installed xgboost-1.3.3\n",
      "Note: you may need to restart the kernel to use updated packages.\n"
     ]
    }
   ],
   "source": [
    "pip install xgboost"
   ]
  },
  {
   "cell_type": "code",
   "execution_count": 10,
   "id": "virgin-click",
   "metadata": {},
   "outputs": [],
   "source": [
    "# forecast monthly births with xgboost\n",
    "from numpy import asarray\n",
    "from pandas import read_csv\n",
    "from pandas import DataFrame\n",
    "from pandas import concat\n",
    "from sklearn.metrics import mean_absolute_error\n",
    "from xgboost import XGBRegressor\n",
    "from matplotlib import pyplot"
   ]
  },
  {
   "cell_type": "code",
   "execution_count": 11,
   "id": "fluid-improvement",
   "metadata": {},
   "outputs": [],
   "source": [
    "# transform a time series dataset into a supervised learning dataset\n",
    "def series_to_supervised(data, n_in=1, n_out=1, dropnan=True):\n",
    "    n_vars = 1 if type(data) is list else data.shape[1]\n",
    "    df = DataFrame(data)\n",
    "    cols = list()\n",
    "# input sequence (t-n, ... t-1)\n",
    "    for i in range(n_in, 0, -1):\n",
    "        cols.append(df.shift(i))\n",
    "# forecast sequence (t, t+1, ... t+n)\n",
    "    for i in range(0, n_out):\n",
    "        cols.append(df.shift(-i))\n",
    "# put it all together\n",
    "    agg = concat(cols, axis=1)\n",
    "# drop rows with NaN values\n",
    "    if dropnan:\n",
    "        agg.dropna(inplace=True)\n",
    "    return agg.values"
   ]
  },
  {
   "cell_type": "code",
   "execution_count": 12,
   "id": "banned-hygiene",
   "metadata": {},
   "outputs": [],
   "source": [
    "# split a univariate dataset into train/test sets\n",
    "def train_test_split(data, n_test):\n",
    "    return data[:-n_test, :], data[-n_test:, :]"
   ]
  },
  {
   "cell_type": "code",
   "execution_count": 13,
   "id": "radio-stress",
   "metadata": {},
   "outputs": [],
   "source": [
    "# fit an xgboost model and make a one step prediction\n",
    "def xgboost_forecast(train, testX):\n",
    "# transform list into array\n",
    "    train = asarray(train)\n",
    "# split into input and output columns\n",
    "    trainX, trainy = train[:, :-1], train[:, -1]\n",
    "# fit model\n",
    "    model = XGBRegressor(objective='reg:squarederror', n_estimators=1000)\n",
    "    model.fit(trainX, trainy)\n",
    "# make a one-step prediction\n",
    "    yhat = model.predict(asarray([testX]))\n",
    "    return yhat[0]"
   ]
  },
  {
   "cell_type": "code",
   "execution_count": 14,
   "id": "circular-invention",
   "metadata": {},
   "outputs": [],
   "source": [
    "# walk-forward validation for univariate data\n",
    "def walk_forward_validation(data, n_test):\n",
    "    predictions = list()\n",
    "# split dataset\n",
    "    train, test = train_test_split(data, n_test)\n",
    "# seed history with training dataset\n",
    "    history = [x for x in train]\n",
    "# step over each time-step in the test set\n",
    "    for i in range(len(test)):\n",
    "# split test row into input and output columns\n",
    "        testX, testy = test[i, :-1], test[i, -1]\n",
    "# fit model on history and make a prediction\n",
    "        yhat = xgboost_forecast(history, testX)\n",
    "# store forecast in list of predictions\n",
    "        predictions.append(yhat)\n",
    "# add actual observation to history for the next loop\n",
    "        history.append(test[i])\n",
    "# summarize progress\n",
    "        print('>expected=%.1f, predicted=%.1f' % (testy, yhat))\n",
    "# estimate prediction error\n",
    "    error = mean_absolute_error(test[:, -1], predictions)\n",
    "    return error, test[:, -1], predictions"
   ]
  },
  {
   "cell_type": "code",
   "execution_count": 15,
   "id": "young-breach",
   "metadata": {},
   "outputs": [
    {
     "name": "stderr",
     "output_type": "stream",
     "text": [
      "/Users/michelledavis/opt/anaconda3/envs/PythonAdv/lib/python3.6/site-packages/xgboost/data.py:107: UserWarning: Use subset (sliced data) of np.ndarray is not recommended because it will generate extra copies and increase memory consumption\n",
      "  \"memory consumption\")\n"
     ]
    },
    {
     "name": "stdout",
     "output_type": "stream",
     "text": [
      ">expected=78.2, predicted=80.4\n",
      ">expected=78.7, predicted=77.9\n",
      ">expected=77.0, predicted=77.9\n",
      ">expected=73.3, predicted=72.6\n",
      ">expected=71.1, predicted=71.4\n",
      ">expected=74.0, predicted=76.2\n",
      ">expected=73.9, predicted=74.7\n",
      ">expected=70.8, predicted=72.7\n",
      ">expected=70.6, predicted=71.9\n",
      ">expected=68.6, predicted=72.5\n",
      ">expected=73.3, predicted=70.0\n",
      ">expected=73.2, predicted=74.8\n",
      "MAE: 1.636\n"
     ]
    },
    {
     "data": {
      "image/png": "[encoded data removed]",
      "text/plain": [
       "<Figure size 432x288 with 1 Axes>"
      ]
     },
     "metadata": {},
     "output_type": "display_data"
    }
   ],
   "source": [
    "# load the dataset\n",
    "series = read_csv('Resources/Coffee_Price_Data .csv', header=0, index_col=0)\n",
    "values = series.values\n",
    "# transform the time series data into supervised learning\n",
    "data = series_to_supervised(values, n_in=6)\n",
    "# evaluate\n",
    "mae, y, yhat = walk_forward_validation(data, 12)\n",
    "print('MAE: %.3f' % mae)\n",
    "# plot expected vs preducted\n",
    "pyplot.plot(y, label='Expected')\n",
    "pyplot.plot(yhat, label='Predicted')\n",
    "pyplot.legend()\n",
    "pyplot.show()"
   ]
  },
  {
   "cell_type": "code",
   "execution_count": null,
   "id": "agricultural-muslim",
   "metadata": {},
   "outputs": [],
   "source": []
  }
 ],
 "metadata": {
  "kernelspec": {
   "display_name": "Python [conda env:PythonAdv] *",
   "language": "python",
   "name": "conda-env-PythonAdv-py"
  },
  "language_info": {
   "codemirror_mode": {
    "name": "ipython",
    "version": 3
   },
   "file_extension": ".py",
   "mimetype": "text/x-python",
   "name": "python",
   "nbconvert_exporter": "python",
   "pygments_lexer": "ipython3",
   "version": "3.6.12"
  }
 },
 "nbformat": 4,
 "nbformat_minor": 5
}
