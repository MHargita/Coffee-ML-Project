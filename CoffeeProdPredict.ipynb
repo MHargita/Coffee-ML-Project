{
 "cells": [
  {
   "cell_type": "code",
   "execution_count": 1,
   "metadata": {},
   "outputs": [],
   "source": [
    "import matplotlib.pyplot as plt\n",
    "import numpy as np\n",
    "import pandas as pd"
   ]
  },
  {
   "cell_type": "code",
   "execution_count": 2,
   "metadata": {
    "scrolled": true
   },
   "outputs": [
    {
     "data": {
      "text/html": [
       "<div>\n",
       "<style scoped>\n",
       "    .dataframe tbody tr th:only-of-type {\n",
       "        vertical-align: middle;\n",
       "    }\n",
       "\n",
       "    .dataframe tbody tr th {\n",
       "        vertical-align: top;\n",
       "    }\n",
       "\n",
       "    .dataframe thead th {\n",
       "        text-align: right;\n",
       "    }\n",
       "</style>\n",
       "<table border=\"1\" class=\"dataframe\">\n",
       "  <thead>\n",
       "    <tr style=\"text-align: right;\">\n",
       "      <th></th>\n",
       "      <th>Continent</th>\n",
       "      <th>Country</th>\n",
       "      <th>Latitude (-s,n)</th>\n",
       "      <th>Longitude (e,-w)</th>\n",
       "      <th>Production In thousand 60-kg bags 2017</th>\n",
       "      <th>Production In thousand 60-kg bags 2018</th>\n",
       "      <th>Production In thousand 60-kg bags 2019</th>\n",
       "      <th>Production In thousand 60-kg bags 2020</th>\n",
       "    </tr>\n",
       "  </thead>\n",
       "  <tbody>\n",
       "    <tr>\n",
       "      <th>0</th>\n",
       "      <td>Africa</td>\n",
       "      <td>Burundi</td>\n",
       "      <td>-3.37310</td>\n",
       "      <td>29.91890</td>\n",
       "      <td>203</td>\n",
       "      <td>221</td>\n",
       "      <td>268</td>\n",
       "      <td>257</td>\n",
       "    </tr>\n",
       "    <tr>\n",
       "      <th>1</th>\n",
       "      <td>Africa</td>\n",
       "      <td>Cameroon</td>\n",
       "      <td>7.36970</td>\n",
       "      <td>12.35470</td>\n",
       "      <td>370</td>\n",
       "      <td>310</td>\n",
       "      <td>268</td>\n",
       "      <td>280</td>\n",
       "    </tr>\n",
       "    <tr>\n",
       "      <th>2</th>\n",
       "      <td>Africa</td>\n",
       "      <td>Ivory Coast</td>\n",
       "      <td>7.54000</td>\n",
       "      <td>-5.54710</td>\n",
       "      <td>1624</td>\n",
       "      <td>2175</td>\n",
       "      <td>1929</td>\n",
       "      <td>1775</td>\n",
       "    </tr>\n",
       "    <tr>\n",
       "      <th>3</th>\n",
       "      <td>Africa</td>\n",
       "      <td>Democratic Republic of Congo</td>\n",
       "      <td>-4.03833</td>\n",
       "      <td>21.75866</td>\n",
       "      <td>382</td>\n",
       "      <td>397</td>\n",
       "      <td>391</td>\n",
       "      <td>375</td>\n",
       "    </tr>\n",
       "    <tr>\n",
       "      <th>4</th>\n",
       "      <td>Africa</td>\n",
       "      <td>Ethiopia</td>\n",
       "      <td>9.14500</td>\n",
       "      <td>40.48970</td>\n",
       "      <td>7347</td>\n",
       "      <td>7511</td>\n",
       "      <td>7343</td>\n",
       "      <td>7375</td>\n",
       "    </tr>\n",
       "  </tbody>\n",
       "</table>\n",
       "</div>"
      ],
      "text/plain": [
       "  Continent                       Country  Latitude (-s,n)  Longitude (e,-w)  \\\n",
       "0    Africa                       Burundi         -3.37310          29.91890   \n",
       "1    Africa                      Cameroon          7.36970          12.35470   \n",
       "2    Africa                   Ivory Coast          7.54000          -5.54710   \n",
       "3    Africa  Democratic Republic of Congo         -4.03833          21.75866   \n",
       "4    Africa                      Ethiopia          9.14500          40.48970   \n",
       "\n",
       "   Production In thousand 60-kg bags 2017  \\\n",
       "0                                     203   \n",
       "1                                     370   \n",
       "2                                    1624   \n",
       "3                                     382   \n",
       "4                                    7347   \n",
       "\n",
       "   Production In thousand 60-kg bags 2018  \\\n",
       "0                                     221   \n",
       "1                                     310   \n",
       "2                                    2175   \n",
       "3                                     397   \n",
       "4                                    7511   \n",
       "\n",
       "   Production In thousand 60-kg bags 2019  \\\n",
       "0                                     268   \n",
       "1                                     268   \n",
       "2                                    1929   \n",
       "3                                     391   \n",
       "4                                    7343   \n",
       "\n",
       "   Production In thousand 60-kg bags 2020  \n",
       "0                                     257  \n",
       "1                                     280  \n",
       "2                                    1775  \n",
       "3                                     375  \n",
       "4                                    7375  "
      ]
     },
     "execution_count": 2,
     "metadata": {},
     "output_type": "execute_result"
    }
   ],
   "source": [
    "# Read the csv file into a pandas DataFrame\n",
    "\n",
    "cprd = pd.read_csv('./Resources/coffee_prd_by_country.csv')\n",
    "cprd.head()"
   ]
  },
  {
   "cell_type": "code",
   "execution_count": 3,
   "metadata": {},
   "outputs": [
    {
     "name": "stdout",
     "output_type": "stream",
     "text": [
      "<class 'pandas.core.frame.DataFrame'>\n",
      "RangeIndex: 36 entries, 0 to 35\n",
      "Data columns (total 8 columns):\n",
      " #   Column                                  Non-Null Count  Dtype  \n",
      "---  ------                                  --------------  -----  \n",
      " 0   Continent                               36 non-null     object \n",
      " 1   Country                                 36 non-null     object \n",
      " 2   Latitude (-s,n)                         36 non-null     float64\n",
      " 3   Longitude (e,-w)                        36 non-null     float64\n",
      " 4   Production In thousand 60-kg bags 2017  36 non-null     int64  \n",
      " 5   Production In thousand 60-kg bags 2018  36 non-null     int64  \n",
      " 6   Production In thousand 60-kg bags 2019  36 non-null     int64  \n",
      " 7   Production In thousand 60-kg bags 2020  36 non-null     int64  \n",
      "dtypes: float64(2), int64(4), object(2)\n",
      "memory usage: 2.4+ KB\n"
     ]
    }
   ],
   "source": [
    "# print('Rows x Columns : ', cprd.shape[0], 'x', cprd.shape[1])\n",
    "# print('\\nFeatures: ', cprd.columns.tolist())\n",
    "# print('\\nUnique values:')\n",
    "# print(cprd.nunique())\n",
    "# for col in cprd.columns:\n",
    "#     print(col, end=': ')\n",
    "#     print(cprd[col].unique())\n",
    "cprd.info()\n"
   ]
  },
  {
   "cell_type": "code",
   "execution_count": 4,
   "metadata": {
    "scrolled": true
   },
   "outputs": [
    {
     "data": {
      "text/html": [
       "<div>\n",
       "<style scoped>\n",
       "    .dataframe tbody tr th:only-of-type {\n",
       "        vertical-align: middle;\n",
       "    }\n",
       "\n",
       "    .dataframe tbody tr th {\n",
       "        vertical-align: top;\n",
       "    }\n",
       "\n",
       "    .dataframe thead th {\n",
       "        text-align: right;\n",
       "    }\n",
       "</style>\n",
       "<table border=\"1\" class=\"dataframe\">\n",
       "  <thead>\n",
       "    <tr style=\"text-align: right;\">\n",
       "      <th></th>\n",
       "      <th>Latitude (-s,n)</th>\n",
       "      <th>Longitude (e,-w)</th>\n",
       "      <th>Production In thousand 60-kg bags 2017</th>\n",
       "      <th>Production In thousand 60-kg bags 2018</th>\n",
       "      <th>Production In thousand 60-kg bags 2019</th>\n",
       "      <th>Production In thousand 60-kg bags 2020</th>\n",
       "    </tr>\n",
       "  </thead>\n",
       "  <tbody>\n",
       "    <tr>\n",
       "      <th>count</th>\n",
       "      <td>36.000000</td>\n",
       "      <td>36.000000</td>\n",
       "      <td>36.000000</td>\n",
       "      <td>36.000000</td>\n",
       "      <td>36.000000</td>\n",
       "      <td>36.000000</td>\n",
       "    </tr>\n",
       "    <tr>\n",
       "      <th>mean</th>\n",
       "      <td>7.277860</td>\n",
       "      <td>-4.351854</td>\n",
       "      <td>4650.972222</td>\n",
       "      <td>4718.555556</td>\n",
       "      <td>4672.583333</td>\n",
       "      <td>4762.055556</td>\n",
       "    </tr>\n",
       "    <tr>\n",
       "      <th>std</th>\n",
       "      <td>10.634017</td>\n",
       "      <td>75.284139</td>\n",
       "      <td>10868.579922</td>\n",
       "      <td>11434.955078</td>\n",
       "      <td>11353.221834</td>\n",
       "      <td>11791.252193</td>\n",
       "    </tr>\n",
       "    <tr>\n",
       "      <th>min</th>\n",
       "      <td>-18.766900</td>\n",
       "      <td>-102.552800</td>\n",
       "      <td>84.000000</td>\n",
       "      <td>54.000000</td>\n",
       "      <td>41.000000</td>\n",
       "      <td>40.000000</td>\n",
       "    </tr>\n",
       "    <tr>\n",
       "      <th>25%</th>\n",
       "      <td>-1.049775</td>\n",
       "      <td>-75.706700</td>\n",
       "      <td>330.500000</td>\n",
       "      <td>337.750000</td>\n",
       "      <td>326.500000</td>\n",
       "      <td>328.750000</td>\n",
       "    </tr>\n",
       "    <tr>\n",
       "      <th>50%</th>\n",
       "      <td>8.882250</td>\n",
       "      <td>-2.361150</td>\n",
       "      <td>699.000000</td>\n",
       "      <td>704.000000</td>\n",
       "      <td>641.500000</td>\n",
       "      <td>600.000000</td>\n",
       "    </tr>\n",
       "    <tr>\n",
       "      <th>75%</th>\n",
       "      <td>15.610400</td>\n",
       "      <td>42.084550</td>\n",
       "      <td>4327.500000</td>\n",
       "      <td>4205.500000</td>\n",
       "      <td>3862.750000</td>\n",
       "      <td>3845.500000</td>\n",
       "    </tr>\n",
       "    <tr>\n",
       "      <th>max</th>\n",
       "      <td>23.634500</td>\n",
       "      <td>143.955500</td>\n",
       "      <td>57077.000000</td>\n",
       "      <td>62739.000000</td>\n",
       "      <td>61857.000000</td>\n",
       "      <td>65343.000000</td>\n",
       "    </tr>\n",
       "  </tbody>\n",
       "</table>\n",
       "</div>"
      ],
      "text/plain": [
       "       Latitude (-s,n)  Longitude (e,-w)  \\\n",
       "count        36.000000         36.000000   \n",
       "mean          7.277860         -4.351854   \n",
       "std          10.634017         75.284139   \n",
       "min         -18.766900       -102.552800   \n",
       "25%          -1.049775        -75.706700   \n",
       "50%           8.882250         -2.361150   \n",
       "75%          15.610400         42.084550   \n",
       "max          23.634500        143.955500   \n",
       "\n",
       "       Production In thousand 60-kg bags 2017  \\\n",
       "count                               36.000000   \n",
       "mean                              4650.972222   \n",
       "std                              10868.579922   \n",
       "min                                 84.000000   \n",
       "25%                                330.500000   \n",
       "50%                                699.000000   \n",
       "75%                               4327.500000   \n",
       "max                              57077.000000   \n",
       "\n",
       "       Production In thousand 60-kg bags 2018  \\\n",
       "count                               36.000000   \n",
       "mean                              4718.555556   \n",
       "std                              11434.955078   \n",
       "min                                 54.000000   \n",
       "25%                                337.750000   \n",
       "50%                                704.000000   \n",
       "75%                               4205.500000   \n",
       "max                              62739.000000   \n",
       "\n",
       "       Production In thousand 60-kg bags 2019  \\\n",
       "count                               36.000000   \n",
       "mean                              4672.583333   \n",
       "std                              11353.221834   \n",
       "min                                 41.000000   \n",
       "25%                                326.500000   \n",
       "50%                                641.500000   \n",
       "75%                               3862.750000   \n",
       "max                              61857.000000   \n",
       "\n",
       "       Production In thousand 60-kg bags 2020  \n",
       "count                               36.000000  \n",
       "mean                              4762.055556  \n",
       "std                              11791.252193  \n",
       "min                                 40.000000  \n",
       "25%                                328.750000  \n",
       "50%                                600.000000  \n",
       "75%                               3845.500000  \n",
       "max                              65343.000000  "
      ]
     },
     "execution_count": 4,
     "metadata": {},
     "output_type": "execute_result"
    }
   ],
   "source": [
    "cprd.describe()"
   ]
  },
  {
   "cell_type": "code",
   "execution_count": 5,
   "metadata": {
    "scrolled": true
   },
   "outputs": [
    {
     "data": {
      "text/html": [
       "<div>\n",
       "<style scoped>\n",
       "    .dataframe tbody tr th:only-of-type {\n",
       "        vertical-align: middle;\n",
       "    }\n",
       "\n",
       "    .dataframe tbody tr th {\n",
       "        vertical-align: top;\n",
       "    }\n",
       "\n",
       "    .dataframe thead th {\n",
       "        text-align: right;\n",
       "    }\n",
       "</style>\n",
       "<table border=\"1\" class=\"dataframe\">\n",
       "  <thead>\n",
       "    <tr style=\"text-align: right;\">\n",
       "      <th></th>\n",
       "      <th>Continent</th>\n",
       "      <th>Country</th>\n",
       "      <th>Production In thousand 60-kg bags 2017</th>\n",
       "      <th>Production In thousand 60-kg bags 2018</th>\n",
       "      <th>Production In thousand 60-kg bags 2019</th>\n",
       "      <th>Production In thousand 60-kg bags 2020</th>\n",
       "    </tr>\n",
       "  </thead>\n",
       "  <tbody>\n",
       "    <tr>\n",
       "      <th>0</th>\n",
       "      <td>Africa</td>\n",
       "      <td>Burundi</td>\n",
       "      <td>203</td>\n",
       "      <td>221</td>\n",
       "      <td>268</td>\n",
       "      <td>257</td>\n",
       "    </tr>\n",
       "    <tr>\n",
       "      <th>1</th>\n",
       "      <td>Africa</td>\n",
       "      <td>Cameroon</td>\n",
       "      <td>370</td>\n",
       "      <td>310</td>\n",
       "      <td>268</td>\n",
       "      <td>280</td>\n",
       "    </tr>\n",
       "    <tr>\n",
       "      <th>2</th>\n",
       "      <td>Africa</td>\n",
       "      <td>Ivory Coast</td>\n",
       "      <td>1624</td>\n",
       "      <td>2175</td>\n",
       "      <td>1929</td>\n",
       "      <td>1775</td>\n",
       "    </tr>\n",
       "    <tr>\n",
       "      <th>3</th>\n",
       "      <td>Africa</td>\n",
       "      <td>Democratic Republic of Congo</td>\n",
       "      <td>382</td>\n",
       "      <td>397</td>\n",
       "      <td>391</td>\n",
       "      <td>375</td>\n",
       "    </tr>\n",
       "    <tr>\n",
       "      <th>4</th>\n",
       "      <td>Africa</td>\n",
       "      <td>Ethiopia</td>\n",
       "      <td>7347</td>\n",
       "      <td>7511</td>\n",
       "      <td>7343</td>\n",
       "      <td>7375</td>\n",
       "    </tr>\n",
       "  </tbody>\n",
       "</table>\n",
       "</div>"
      ],
      "text/plain": [
       "  Continent                       Country  \\\n",
       "0    Africa                       Burundi   \n",
       "1    Africa                      Cameroon   \n",
       "2    Africa                   Ivory Coast   \n",
       "3    Africa  Democratic Republic of Congo   \n",
       "4    Africa                      Ethiopia   \n",
       "\n",
       "   Production In thousand 60-kg bags 2017  \\\n",
       "0                                     203   \n",
       "1                                     370   \n",
       "2                                    1624   \n",
       "3                                     382   \n",
       "4                                    7347   \n",
       "\n",
       "   Production In thousand 60-kg bags 2018  \\\n",
       "0                                     221   \n",
       "1                                     310   \n",
       "2                                    2175   \n",
       "3                                     397   \n",
       "4                                    7511   \n",
       "\n",
       "   Production In thousand 60-kg bags 2019  \\\n",
       "0                                     268   \n",
       "1                                     268   \n",
       "2                                    1929   \n",
       "3                                     391   \n",
       "4                                    7343   \n",
       "\n",
       "   Production In thousand 60-kg bags 2020  \n",
       "0                                     257  \n",
       "1                                     280  \n",
       "2                                    1775  \n",
       "3                                     375  \n",
       "4                                    7375  "
      ]
     },
     "execution_count": 5,
     "metadata": {},
     "output_type": "execute_result"
    }
   ],
   "source": [
    "cprd_df = cprd.drop(cprd.columns[2], axis=1)\n",
    "cprd_df1= cprd_df.drop(cprd_df.columns[2], axis=1)\n",
    "cprd_df1.head()\n"
   ]
  },
  {
   "cell_type": "code",
   "execution_count": null,
   "metadata": {
    "nbgrader": {
     "grade": false,
     "grade_id": "cell-41760f7611f17b25",
     "locked": false,
     "schema_version": 1,
     "solution": true
    },
    "scrolled": true
   },
   "outputs": [],
   "source": [
    "# # Use Pandas get_dummies to convert categorical data\n",
    "\n",
    "# ### BEGIN SOLUTION\n",
    "# cprd_df1 = pd.get_dummies(cprd_df1)\n",
    "# # cprd_df1.head()\n",
    "# cprd_df1\n",
    "# ### END SOLUTION"
   ]
  },
  {
   "cell_type": "code",
   "execution_count": 6,
   "metadata": {},
   "outputs": [],
   "source": [
    "cprd_df1.rename(columns={ cprd_df1.columns[2]: \"2017\",cprd_df1.columns[3]: \"2018\", cprd_df1.columns[4]: \"2019\",cprd_df1.columns[5]: \"2020\"},inplace=True)"
   ]
  },
  {
   "cell_type": "code",
   "execution_count": 9,
   "metadata": {},
   "outputs": [
    {
     "data": {
      "text/plain": [
       "<matplotlib.legend.Legend at 0x20b6394ba58>"
      ]
     },
     "execution_count": 9,
     "metadata": {},
     "output_type": "execute_result"
    },
    {
     "data": {
      "image/png": "[encoded data removed]",
      "text/plain": [
       "<Figure size 432x288 with 1 Axes>"
      ]
     },
     "metadata": {
      "needs_background": "light"
     },
     "output_type": "display_data"
    }
   ],
   "source": [
    "cprd_df1.plot(kind='bar', stacked =True, x='Country')\n",
    "plt.title(\"Coffee Production Prediction\")\n",
    "plt.xlabel(\"Country\")\n",
    "plt.ylabel(\"Coffee Prediction in thousand 60 Kg bag\")\n",
    "plt.gca().legend(loc='center left', bbox_to_anchor=(1, 0.5))"
   ]
  },
  {
   "cell_type": "code",
   "execution_count": 10,
   "metadata": {
    "nbgrader": {
     "grade": false,
     "grade_id": "cell-a61368ced39885a2",
     "locked": false,
     "schema_version": 1,
     "solution": true
    }
   },
   "outputs": [
    {
     "name": "stdout",
     "output_type": "stream",
     "text": [
      "(36, 3) (36, 1)\n"
     ]
    }
   ],
   "source": [
    "# Assign X (data) and y (target)\n",
    "\n",
    "### BEGIN SOLUTION\n",
    "X = cprd_df1[[\"2017\", \"2018\", \"2019\"]]\n",
    "y = cprd_df1[\"2020\"].values.reshape(-1, 1)\n",
    "print(X.shape, y.shape)\n",
    "### END SOLUTION"
   ]
  },
  {
   "cell_type": "code",
   "execution_count": 11,
   "metadata": {
    "nbgrader": {
     "grade": false,
     "grade_id": "cell-62193e4c8caef9c5",
     "locked": false,
     "schema_version": 1,
     "solution": true
    }
   },
   "outputs": [],
   "source": [
    "# Split the data into training and testing\n",
    "\n",
    "### BEGIN SOLUTION\n",
    "from sklearn.model_selection import train_test_split\n",
    "\n",
    "X_train, X_test, y_train, y_test = train_test_split(X, y, random_state=42)\n",
    "### END SOLUTION"
   ]
  },
  {
   "cell_type": "code",
   "execution_count": 12,
   "metadata": {
    "nbgrader": {
     "grade": false,
     "grade_id": "cell-a885840c1f62d274",
     "locked": false,
     "schema_version": 1,
     "solution": true
    }
   },
   "outputs": [],
   "source": [
    "from sklearn.preprocessing import StandardScaler\n",
    "\n",
    "# Create a StandardScater model and fit it to the training data\n",
    "scaler=StandardScaler()\n",
    "### BEGIN SOLUTION\n",
    "X_scaler = StandardScaler().fit(X_train)\n",
    "y_scaler = StandardScaler().fit(y_train)\n",
    "### END SOLUTION"
   ]
  },
  {
   "cell_type": "code",
   "execution_count": 13,
   "metadata": {
    "nbgrader": {
     "grade": false,
     "grade_id": "cell-a9cd5d1ec0f114ea",
     "locked": false,
     "schema_version": 1,
     "solution": true
    }
   },
   "outputs": [],
   "source": [
    "# Transform the training and testing data using the X_scaler and y_scaler models\n",
    "\n",
    "### BEGIN SOLUTION\n",
    "X_train_scaled = X_scaler.transform(X_train)\n",
    "X_test_scaled = X_scaler.transform(X_test)\n",
    "y_train_scaled = y_scaler.transform(y_train)\n",
    "y_test_scaled = y_scaler.transform(y_test)\n",
    "### END SOLUTION"
   ]
  },
  {
   "cell_type": "code",
   "execution_count": 14,
   "metadata": {
    "nbgrader": {
     "grade": false,
     "grade_id": "cell-4df70e615bb36ac1",
     "locked": false,
     "schema_version": 1,
     "solution": true
    }
   },
   "outputs": [
    {
     "data": {
      "text/plain": [
       "LinearRegression()"
      ]
     },
     "execution_count": 14,
     "metadata": {},
     "output_type": "execute_result"
    }
   ],
   "source": [
    "# Create a LinearRegression model and fit it to the scaled training data\n",
    "\n",
    "### BEGIN SOLUTION\n",
    "from sklearn.linear_model import LinearRegression\n",
    "model = LinearRegression()\n",
    "model.fit(X_train_scaled, y_train_scaled)\n",
    "### END SOLUTION"
   ]
  },
  {
   "cell_type": "code",
   "execution_count": 15,
   "metadata": {
    "nbgrader": {
     "grade": false,
     "grade_id": "cell-ec6532d8dc790021",
     "locked": false,
     "schema_version": 1,
     "solution": true
    }
   },
   "outputs": [
    {
     "data": {
      "image/png": "[encoded data removed]",
      "text/plain": [
       "<Figure size 432x288 with 1 Axes>"
      ]
     },
     "metadata": {
      "needs_background": "light"
     },
     "output_type": "display_data"
    }
   ],
   "source": [
    "# Make predictions using a fitted model\n",
    "# Plot the difference between the model predicted values and actual y values, versus the model predicted values\n",
    "# Hint: You can predict values of X training and testing data using the model.predict() method on a fitted model\n",
    "\n",
    "### BEGIN SOLUTION\n",
    "predictionslen = model.predict(X_test_scaled)\n",
    "model.fit(X_train_scaled, y_train_scaled)\n",
    "plt.scatter(model.predict(X_train_scaled), model.predict(X_train_scaled) - y_train_scaled, c=\"blue\", label=\"Training Data\")\n",
    "plt.scatter(model.predict(X_test_scaled), model.predict(X_test_scaled) - y_test_scaled, c=\"orange\", label=\"Testing Data\")\n",
    "plt.legend()\n",
    "plt.hlines(y=0, xmin=y_test_scaled.min(), xmax=y_test_scaled.max())\n",
    "plt.title(\"Residual Plot\")\n",
    "plt.show()\n",
    "### END SOLUTION"
   ]
  },
  {
   "cell_type": "code",
   "execution_count": null,
   "metadata": {},
   "outputs": [],
   "source": [
    "# Creating graph for expected Vs Predicted graph\n",
    "pyplot.plot(y, label='Expected')\n",
    "pyplot.plot(predictionslen, label='Predicted')\n",
    "pyplot.legend()\n",
    "pyplot.show()\n"
   ]
  },
  {
   "cell_type": "code",
   "execution_count": null,
   "metadata": {
    "nbgrader": {
     "grade": false,
     "grade_id": "cell-deb1d9b663c1883f",
     "locked": false,
     "schema_version": 1,
     "solution": true
    }
   },
   "outputs": [],
   "source": [
    "# Used X_test_scaled, y_test_scaled, and model.predict(X_test_scaled) to calculate MSE and R2\n",
    "\n",
    "### BEGIN SOLUTION\n",
    "from sklearn.metrics import mean_squared_error\n",
    "\n",
    "MSE = mean_squared_error(y_test_scaled, predictionslen)\n",
    "r2 = model.score(X_test_scaled, y_test_scaled)\n",
    "### END SOLUTION\n",
    "\n",
    "print(f\"MSE: {MSE}, R2: {r2}\")"
   ]
  },
  {
   "cell_type": "code",
   "execution_count": null,
   "metadata": {},
   "outputs": [],
   "source": [
    "predictionslen\n",
    "predictionlen1=model.predict(X_train)\n",
    "y_train\n",
    "pd1=predictionlen1.astype(int)\n",
    "y_train, pd1\n"
   ]
  },
  {
   "cell_type": "code",
   "execution_count": null,
   "metadata": {
    "scrolled": true
   },
   "outputs": [],
   "source": [
    "X_train2020= cprd_df1[[\"2018\",\"2019\",\"2020\"]]\n",
    "predictionlen2=model.predict(X_train2020).astype(int)\n",
    "\n"
   ]
  },
  {
   "cell_type": "code",
   "execution_count": null,
   "metadata": {
    "scrolled": true
   },
   "outputs": [],
   "source": [
    "cprd_df1"
   ]
  },
  {
   "cell_type": "code",
   "execution_count": null,
   "metadata": {
    "scrolled": true
   },
   "outputs": [],
   "source": [
    "cprd_df1.describe()"
   ]
  },
  {
   "cell_type": "code",
   "execution_count": null,
   "metadata": {},
   "outputs": [],
   "source": [
    "cprd_df1[\" 2021\"]=predictionlen2\n",
    "# cprd_df2.set_index('Country',inplace=True)\n",
    "# cprd_df2.set_index(\"Country\", inplace=True)\n",
    "\n",
    "cprd_df1\n",
    "# cprd_df1.reset_index()\n",
    "# cprd_df1.set_index('Continent',inplace=True)"
   ]
  },
  {
   "cell_type": "code",
   "execution_count": null,
   "metadata": {},
   "outputs": [],
   "source": [
    "dftocsv=cprd_df1.to_csv(\"Resources/new_coffee_prd_by_country.csv\")"
   ]
  },
  {
   "cell_type": "code",
   "execution_count": null,
   "metadata": {},
   "outputs": [],
   "source": [
    "# cprd_df1.plot(kind='bar', x=\"country\", stacked =True)\n",
    "# plt.title(\"Production Prediction\")\n",
    "# plt.xlabel(\"Country\")\n",
    "# plt.ylabel(\"Coffee Prediction in thousand 60 Kg bag\")\n",
    "plt.figure(figsize=(10,10))\n",
    "cprd_df1.plot(kind='bar', stacked =True, x='Country')\n",
    "\n",
    "plt.title(\"Coffee Production Prediction\")\n",
    "plt.xlabel(\"Country\")\n",
    "plt.ylabel(\"Coffee Prediction in thousand 60 Kg bag\")\n",
    "plt.gca().legend(loc='center left', bbox_to_anchor=(1, 0.5))\n",
    "plt.savefig(\"2021_coffee_prediction\")"
   ]
  },
  {
   "cell_type": "code",
   "execution_count": null,
   "metadata": {
    "nbgrader": {
     "grade": false,
     "grade_id": "cell-1dbfa38f409ceb7c",
     "locked": false,
     "schema_version": 1,
     "solution": true
    }
   },
   "outputs": [],
   "source": [
    "# LASSO model\n",
    "# Note: Use an alpha of .01 when creating the model for this activity\n",
    "from sklearn.linear_model import Lasso\n",
    "\n",
    "### BEGIN SOLUTION\n",
    "lasso = Lasso(alpha=.01).fit(X_train_scaled, y_train_scaled)\n",
    "\n",
    "predictions = lasso.predict(X_test_scaled)\n",
    "\n",
    "MSE = mean_squared_error(y_test_scaled, predictions)\n",
    "r2 = lasso.score(X_test_scaled, y_test_scaled)\n",
    "### END SOLUTION\n",
    "\n",
    "print(f\"MSE: {MSE}, R2: {r2}\")"
   ]
  },
  {
   "cell_type": "code",
   "execution_count": null,
   "metadata": {
    "nbgrader": {
     "grade": false,
     "grade_id": "cell-d7adb5db2fc7b236",
     "locked": false,
     "schema_version": 1,
     "solution": true
    }
   },
   "outputs": [],
   "source": [
    "# Ridge model\n",
    "# Note: Use an alpha of .01 when creating the model for this activity\n",
    "from sklearn.linear_model import Ridge\n",
    "\n",
    "### BEGIN SOLUTION\n",
    "ridge = Ridge(alpha=.01).fit(X_train_scaled, y_train_scaled)\n",
    "\n",
    "predictions = ridge.predict(X_test_scaled)\n",
    "\n",
    "MSE = mean_squared_error(y_test_scaled, predictions)\n",
    "r2 = ridge.score(X_test_scaled, y_test_scaled)\n",
    "### END SOLUTION\n",
    "\n",
    "print(f\"MSE: {MSE}, R2: {r2}\")"
   ]
  },
  {
   "cell_type": "code",
   "execution_count": null,
   "metadata": {
    "nbgrader": {
     "grade": false,
     "grade_id": "cell-5b0241abbdaa88e9",
     "locked": false,
     "schema_version": 1,
     "solution": true
    }
   },
   "outputs": [],
   "source": [
    "# ElasticNet model\n",
    "# Note: Use an alpha of .01 when creating the model for this activity\n",
    "from sklearn.linear_model import ElasticNet\n",
    "\n",
    "### BEGIN SOLUTION\n",
    "elasticnet = ElasticNet(alpha=.01).fit(X_train_scaled, y_train_scaled)\n",
    "\n",
    "predictions = elasticnet.predict(X_test_scaled)\n",
    "\n",
    "MSE = mean_squared_error(y_test_scaled, predictions)\n",
    "r2 = elasticnet.score(X_test_scaled, y_test_scaled)\n",
    "### END SOLUTION\n",
    "\n",
    "print(f\"MSE: {MSE}, R2: {r2}\")\n",
    "\n",
    "# elasticnet_df[\"MSE\"]"
   ]
  },
  {
   "cell_type": "code",
   "execution_count": null,
   "metadata": {},
   "outputs": [],
   "source": []
  },
  {
   "cell_type": "code",
   "execution_count": null,
   "metadata": {},
   "outputs": [],
   "source": []
  }
 ],
 "metadata": {
  "celltoolbar": "Create Assignment",
  "kernelspec": {
   "display_name": "Python [conda env:PythonAdv] *",
   "language": "python",
   "name": "conda-env-PythonAdv-py"
  },
  "language_info": {
   "codemirror_mode": {
    "name": "ipython",
    "version": 3
   },
   "file_extension": ".py",
   "mimetype": "text/x-python",
   "name": "python",
   "nbconvert_exporter": "python",
   "pygments_lexer": "ipython3",
   "version": "3.6.12"
  },
  "varInspector": {
   "cols": {
    "lenName": 16,
    "lenType": 16,
    "lenVar": 40
   },
   "kernels_config": {
    "python": {
     "delete_cmd_postfix": "",
     "delete_cmd_prefix": "del ",
     "library": "var_list.py",
     "varRefreshCmd": "print(var_dic_list())"
    },
    "r": {
     "delete_cmd_postfix": ") ",
     "delete_cmd_prefix": "rm(",
     "library": "var_list.r",
     "varRefreshCmd": "cat(var_dic_list()) "
    }
   },
   "types_to_exclude": [
    "module",
    "function",
    "builtin_function_or_method",
    "instance",
    "_Feature"
   ],
   "window_display": false
  }
 },
 "nbformat": 4,
 "nbformat_minor": 2
}
